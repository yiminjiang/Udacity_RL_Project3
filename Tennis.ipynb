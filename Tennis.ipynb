{
 "cells": [
  {
   "cell_type": "markdown",
   "metadata": {},
   "source": [
    "# Collaboration and Competition\n",
    "\n",
    "---\n",
    "\n",
    "In this notebook, you will learn how to use the Unity ML-Agents environment for the third project of the [Deep Reinforcement Learning Nanodegree](https://www.udacity.com/course/deep-reinforcement-learning-nanodegree--nd893) program.\n",
    "\n",
    "### 1. Start the Environment\n",
    "\n",
    "We begin by importing the necessary packages.  If the code cell below returns an error, please revisit the project instructions to double-check that you have installed [Unity ML-Agents](https://github.com/Unity-Technologies/ml-agents/blob/master/docs/Installation.md) and [NumPy](http://www.numpy.org/)."
   ]
  },
  {
   "cell_type": "code",
   "execution_count": 1,
   "metadata": {},
   "outputs": [],
   "source": [
    "from unityagents import UnityEnvironment\n",
    "import numpy as np\n",
    "import torch\n",
    "from collections import deque\n",
    "import matplotlib.pyplot as plt\n",
    "%matplotlib inline\n",
    "from ma_ddpg import MADDPG"
   ]
  },
  {
   "cell_type": "markdown",
   "metadata": {},
   "source": [
    "Next, we will start the environment!  **_Before running the code cell below_**, change the `file_name` parameter to match the location of the Unity environment that you downloaded.\n",
    "\n",
    "- **Mac**: `\"path/to/Tennis.app\"`\n",
    "- **Windows** (x86): `\"path/to/Tennis_Windows_x86/Tennis.exe\"`\n",
    "- **Windows** (x86_64): `\"path/to/Tennis_Windows_x86_64/Tennis.exe\"`\n",
    "- **Linux** (x86): `\"path/to/Tennis_Linux/Tennis.x86\"`\n",
    "- **Linux** (x86_64): `\"path/to/Tennis_Linux/Tennis.x86_64\"`\n",
    "- **Linux** (x86, headless): `\"path/to/Tennis_Linux_NoVis/Tennis.x86\"`\n",
    "- **Linux** (x86_64, headless): `\"path/to/Tennis_Linux_NoVis/Tennis.x86_64\"`\n",
    "\n",
    "For instance, if you are using a Mac, then you downloaded `Tennis.app`.  If this file is in the same folder as the notebook, then the line below should appear as follows:\n",
    "```\n",
    "env = UnityEnvironment(file_name=\"Tennis.app\")\n",
    "```"
   ]
  },
  {
   "cell_type": "code",
   "execution_count": 2,
   "metadata": {
    "scrolled": false
   },
   "outputs": [
    {
     "name": "stderr",
     "output_type": "stream",
     "text": [
      "INFO:unityagents:\n",
      "'Academy' started successfully!\n",
      "Unity Academy name: Academy\n",
      "        Number of Brains: 1\n",
      "        Number of External Brains : 1\n",
      "        Lesson number : 0\n",
      "        Reset Parameters :\n",
      "\t\t\n",
      "Unity brain name: TennisBrain\n",
      "        Number of Visual Observations (per agent): 0\n",
      "        Vector Observation space type: continuous\n",
      "        Vector Observation space size (per agent): 8\n",
      "        Number of stacked Vector Observation: 3\n",
      "        Vector Action space type: continuous\n",
      "        Vector Action space size (per agent): 2\n",
      "        Vector Action descriptions: , \n"
     ]
    }
   ],
   "source": [
    "env = UnityEnvironment(file_name=\"Tennis.app\")"
   ]
  },
  {
   "cell_type": "markdown",
   "metadata": {},
   "source": [
    "Environments contain **_brains_** which are responsible for deciding the actions of their associated agents. Here we check for the first brain available, and set it as the default brain we will be controlling from Python."
   ]
  },
  {
   "cell_type": "code",
   "execution_count": 3,
   "metadata": {},
   "outputs": [],
   "source": [
    "# get the default brain\n",
    "brain_name = env.brain_names[0]\n",
    "brain = env.brains[brain_name]"
   ]
  },
  {
   "cell_type": "markdown",
   "metadata": {},
   "source": [
    "### 2. Examine the State and Action Spaces\n",
    "\n",
    "In this environment, two agents control rackets to bounce a ball over a net. If an agent hits the ball over the net, it receives a reward of +0.1.  If an agent lets a ball hit the ground or hits the ball out of bounds, it receives a reward of -0.01.  Thus, the goal of each agent is to keep the ball in play.\n",
    "\n",
    "The observation space consists of 8 variables corresponding to the position and velocity of the ball and racket. Two continuous actions are available, corresponding to movement toward (or away from) the net, and jumping. \n",
    "\n",
    "Run the code cell below to print some information about the environment."
   ]
  },
  {
   "cell_type": "code",
   "execution_count": 4,
   "metadata": {},
   "outputs": [
    {
     "name": "stdout",
     "output_type": "stream",
     "text": [
      "Number of agents: 2\n",
      "Size of each action: 2\n",
      "There are 2 agents. Each observes a state with length: 24\n",
      "The state for the first agent looks like: [ 0.          0.          0.          0.          0.          0.\n",
      "  0.          0.          0.          0.          0.          0.\n",
      "  0.          0.          0.          0.         -6.65278625 -1.5\n",
      " -0.          0.          6.83172083  6.         -0.          0.        ]\n"
     ]
    }
   ],
   "source": [
    "# reset the environment\n",
    "env_info = env.reset(train_mode=True)[brain_name]\n",
    "\n",
    "# number of agents \n",
    "num_agents = len(env_info.agents)\n",
    "print('Number of agents:', num_agents)\n",
    "\n",
    "# size of each action\n",
    "action_size = brain.vector_action_space_size\n",
    "print('Size of each action:', action_size)\n",
    "\n",
    "# examine the state space \n",
    "states = env_info.vector_observations\n",
    "state_size = states.shape[1]\n",
    "print('There are {} agents. Each observes a state with length: {}'.format(states.shape[0], state_size))\n",
    "print('The state for the first agent looks like:', states[0])"
   ]
  },
  {
   "cell_type": "markdown",
   "metadata": {},
   "source": [
    "### 3. Take Random Actions in the Environment\n",
    "\n",
    "In the next code cell, you will learn how to use the Python API to control the agents and receive feedback from the environment.\n",
    "\n",
    "Once this cell is executed, you will watch the agents' performance, if they select actions at random with each time step.  A window should pop up that allows you to observe the agents.\n",
    "\n",
    "Of course, as part of the project, you'll have to change the code so that the agents are able to use their experiences to gradually choose better actions when interacting with the environment!"
   ]
  },
  {
   "cell_type": "code",
   "execution_count": 5,
   "metadata": {},
   "outputs": [
    {
     "name": "stdout",
     "output_type": "stream",
     "text": [
      "Score (max over agents) from episode 1: 0.0\n",
      "Score (max over agents) from episode 2: 0.0\n",
      "Score (max over agents) from episode 3: 0.0\n",
      "Score (max over agents) from episode 4: 0.0\n",
      "Score (max over agents) from episode 5: 0.0\n"
     ]
    }
   ],
   "source": [
    "for i in range(1, 6):                                      # play game for 5 episodes\n",
    "    env_info = env.reset(train_mode=False)[brain_name]     # reset the environment    \n",
    "    states = env_info.vector_observations                  # get the current state (for each agent)\n",
    "    scores = np.zeros(num_agents)                          # initialize the score (for each agent)\n",
    "    while True:\n",
    "        actions = np.random.randn(num_agents, action_size) # select an action (for each agent)\n",
    "        actions = np.clip(actions, -1, 1)                  # all actions between -1 and 1\n",
    "        env_info = env.step(actions)[brain_name]           # send all actions to tne environment\n",
    "        next_states = env_info.vector_observations         # get next state (for each agent)\n",
    "        rewards = env_info.rewards                         # get reward (for each agent)\n",
    "        print(rewards)\n",
    "        dones = env_info.local_done                        # see if episode finished\n",
    "        scores += env_info.rewards                         # update the score (for each agent)\n",
    "        states = next_states                               # roll over states to next time step\n",
    "        if np.any(dones):                                  # exit loop if episode finished\n",
    "            break\n",
    "    print('Score (max over agents) from episode {}: {}'.format(i, np.max(scores)))"
   ]
  },
  {
   "cell_type": "markdown",
   "metadata": {},
   "source": [
    "When finished, you can close the environment."
   ]
  },
  {
   "cell_type": "code",
   "execution_count": null,
   "metadata": {},
   "outputs": [],
   "source": [
    "env.close()"
   ]
  },
  {
   "cell_type": "markdown",
   "metadata": {},
   "source": [
    "### 4. It's Your Turn!\n",
    "\n",
    "Now it's your turn to train your own agent to solve the environment!  When training the environment, set `train_mode=True`, so that the line for resetting the environment looks like the following:\n",
    "```python\n",
    "env_info = env.reset(train_mode=True)[brain_name]\n",
    "```"
   ]
  },
  {
   "cell_type": "code",
   "execution_count": 4,
   "metadata": {},
   "outputs": [],
   "source": [
    "def fill_memory(agent, n_fill_episodes=10000):\n",
    "    to_fill = agent.buffer_size*0.5\n",
    "    pos_ratio = 0.3\n",
    "    neg_ratio = 0.3\n",
    "    neutral_ratio = 0.4\n",
    "    # counter for number of experiences of each type\n",
    "    pos_actual = 0\n",
    "    neg_actual = 0\n",
    "    neu_actual = 0\n",
    "    \n",
    "    for i_episode in range(1, n_fill_episodes+1):\n",
    "        # reset at each episode\n",
    "        env_info = env.reset(train_mode=True)[brain_name] \n",
    "        # get all agents states\n",
    "        states = env_info.vector_observations\n",
    "        while True:\n",
    "            actions = np.random.randn(2, 2)              \n",
    "            actions = np.clip(actions, -1, 1)                       \n",
    "            env_info = env.step(actions)[brain_name]     \n",
    "            next_states = env_info.vector_observations         \n",
    "            rewards = env_info.rewards                         \n",
    "            dones = env_info.local_done \n",
    "            if len(agent.memory)< to_fill:\n",
    "                # reshape data to be compatible with buffer \n",
    "                state = states.reshape(1, -1)  \n",
    "                next_state = next_states.reshape(1, -1)  \n",
    "                action= np.array(actions).reshape(1, -1)\n",
    "                if np.mean(rewards)>0 and (pos_actual/to_fill)<=pos_ratio:\n",
    "                    agent.memory.add(state, action, rewards, next_state, dones)\n",
    "                    #update counter\n",
    "                    pos_actual+=1\n",
    "                if np.mean(rewards)<0 and (neg_actual/to_fill)<=neg_ratio:\n",
    "                    agent.memory.add(state, action, rewards, next_state, dones)\n",
    "                    neg_actual+=1\n",
    "                if ((np.mean(rewards)==0) and ((neu_actual/to_fill)<=neutral_ratio)):\n",
    "                    agent.memory.add(state, action, rewards, next_state, dones)\n",
    "                    neu_actual+=1\n",
    "                # agent.memory.add(state, action, rewards, next_state, dones)\n",
    "            states = next_states\n",
    "            # if episode is finished\n",
    "            if np.any(dones):\n",
    "                break\n",
    "        actual_pos = pos_actual/to_fill\n",
    "        neg_pos = neg_actual/to_fill\n",
    "        neu_pos = neu_actual/to_fill\n",
    "        # print('\\rEpisode {}\\tMemory Size: {}'.format(i_episode, len(agent.memory)), end=\"\")\n",
    "        print('\\rEpisode {}\\tPos: {:.5}\\tNeg: {:.5f}\\tNeu: {:.5f}\\tFill :{}\\tNow : {}\\t'.format(i_episode, actual_pos,neg_pos,neu_pos,to_fill, len(agent.memory)), end=\"\")\n",
    "        if len(agent.memory) >= to_fill:\n",
    "            break"
   ]
  },
  {
   "cell_type": "code",
   "execution_count": 5,
   "metadata": {},
   "outputs": [],
   "source": [
    "def maddpg_train(agent, n_episodes=150000, print_every=100):                              \n",
    "    np.random.seed(1)\n",
    "    torch.manual_seed(1)\n",
    "   \n",
    "    scores_deque = deque(maxlen=print_every)\n",
    "    scores_all = []\n",
    "    num_agents = len(agent.agents)\n",
    "    for i_episode in range(1, n_episodes+1):\n",
    "        env_info = env.reset(train_mode=True)[brain_name]\n",
    "        states = env_info.vector_observations\n",
    "        scores = np.zeros(num_agents)\n",
    "        while True:\n",
    "            actions = agent.act(states, add_noise=True)\n",
    "            env_info = env.step(actions)[brain_name]           \n",
    "            next_states = env_info.vector_observations         \n",
    "            rewards = env_info.rewards\n",
    "            dones = env_info.local_done\n",
    "            agent.step(states, actions, rewards, next_states, dones)     \n",
    "            states = next_states\n",
    "            scores += rewards\n",
    "            if np.any(dones):\n",
    "                break\n",
    "        max_score = np.max(scores)\n",
    "        scores_deque.append(max_score)\n",
    "        scores_all.append(max_score)\n",
    "        print('\\rEpisode {}\\tAverage Score: {:.5f}\\t Max Score: {:.5f}\\tReward this episode: {}'.format(i_episode, np.mean(scores_deque), np.max(scores_deque),scores), end=\"\")\n",
    "        if i_episode % print_every == 0:\n",
    "            print('\\rEpisode {}\\tAverage Score: {:.5f} '.format(i_episode, np.mean(scores_deque)))\n",
    "        if np.mean(scores_deque) >= 0.5:\n",
    "            print('\\rSolved in {} episode\\tAverage Score {:.5f}'.format(i_episode, np.mean(scores_deque)))\n",
    "            torch.save(agent.agents[0].actor_local.state_dict(),'check_pt_actor.pth')\n",
    "            torch.save(agent.agents[0].critic_local.state_dict(),'check_pt_critic.pth')\n",
    "            break\n",
    "    return scores_all"
   ]
  },
  {
   "cell_type": "code",
   "execution_count": 6,
   "metadata": {},
   "outputs": [
    {
     "name": "stdout",
     "output_type": "stream",
     "text": [
      "Episode 10000\tPos: 0.04356\tNeg: 0.19928\tNeu: 0.40002\tFill :50000.0\tNow : 32143\t"
     ]
    }
   ],
   "source": [
    "agent = MADDPG(2, 24, 2)\n",
    "fill_memory(agent)"
   ]
  },
  {
   "cell_type": "code",
   "execution_count": 7,
   "metadata": {},
   "outputs": [
    {
     "name": "stdout",
     "output_type": "stream",
     "text": [
      "Episode 100\tAverage Score: 0.00000  Max Score: 0.00000\tReward this episode: [ 0.   -0.01]\n",
      "Episode 200\tAverage Score: 0.00000  Max Score: 0.00000\tReward this episode: [ 0.   -0.01]\n",
      "Episode 300\tAverage Score: 0.00000  Max Score: 0.00000\tReward this episode: [ 0.   -0.01]\n",
      "Episode 400\tAverage Score: 0.00000  Max Score: 0.00000\tReward this episode: [ 0.   -0.01]\n",
      "Episode 500\tAverage Score: 0.00000  Max Score: 0.00000\tReward this episode: [ 0.   -0.01]\n",
      "Episode 600\tAverage Score: 0.00000  Max Score: 0.00000\tReward this episode: [-0.01  0.  ]\n",
      "Episode 700\tAverage Score: 0.00000  Max Score: 0.00000\tReward this episode: [-0.01  0.  ]\n",
      "Episode 800\tAverage Score: 0.00000  Max Score: 0.00000\tReward this episode: [-0.01  0.  ]\n",
      "Episode 900\tAverage Score: 0.00000  Max Score: 0.00000\tReward this episode: [ 0.   -0.01]\n",
      "Episode 1000\tAverage Score: 0.00000  Max Score: 0.00000\tReward this episode: [ 0.   -0.01]\n",
      "Episode 1100\tAverage Score: 0.00000  Max Score: 0.00000\tReward this episode: [-0.01  0.  ]\n",
      "Episode 1200\tAverage Score: 0.00000  Max Score: 0.00000\tReward this episode: [ 0.   -0.01]\n",
      "Episode 1300\tAverage Score: 0.00000  Max Score: 0.00000\tReward this episode: [-0.01  0.  ]\n",
      "Episode 1400\tAverage Score: 0.00000  Max Score: 0.00000\tReward this episode: [-0.01  0.  ]\n",
      "Episode 1500\tAverage Score: 0.00000  Max Score: 0.00000\tReward this episode: [ 0.   -0.01]\n",
      "Episode 1600\tAverage Score: 0.00000  Max Score: 0.00000\tReward this episode: [-0.01  0.  ]\n",
      "Episode 1700\tAverage Score: 0.00000  Max Score: 0.00000\tReward this episode: [ 0.   -0.01]\n",
      "Episode 1800\tAverage Score: 0.00000  Max Score: 0.00000\tReward this episode: [ 0.   -0.01]\n",
      "Episode 1900\tAverage Score: 0.00000  Max Score: 0.00000\tReward this episode: [-0.01  0.  ]\n",
      "Episode 2000\tAverage Score: 0.00000  Max Score: 0.00000\tReward this episode: [ 0.   -0.01]\n",
      "Episode 2100\tAverage Score: 0.00000  Max Score: 0.00000\tReward this episode: [ 0.   -0.01]\n",
      "Episode 2200\tAverage Score: 0.00000  Max Score: 0.00000\tReward this episode: [-0.01  0.  ]\n",
      "Episode 2300\tAverage Score: 0.00000  Max Score: 0.00000\tReward this episode: [-0.01  0.  ]\n",
      "Episode 2400\tAverage Score: 0.00000  Max Score: 0.00000\tReward this episode: [-0.01  0.  ]\n",
      "Episode 2500\tAverage Score: 0.00000  Max Score: 0.00000\tReward this episode: [-0.01  0.  ]\n",
      "Episode 2600\tAverage Score: 0.00000  Max Score: 0.00000\tReward this episode: [-0.01  0.  ]\n",
      "Episode 2700\tAverage Score: 0.00000  Max Score: 0.00000\tReward this episode: [ 0.   -0.01]\n",
      "Episode 2800\tAverage Score: 0.00000  Max Score: 0.00000\tReward this episode: [-0.01  0.  ]\n",
      "Episode 2900\tAverage Score: 0.00000  Max Score: 0.00000\tReward this episode: [-0.01  0.  ]\n",
      "Episode 3000\tAverage Score: 0.00000  Max Score: 0.00000\tReward this episode: [ 0.   -0.01]\n",
      "Episode 3100\tAverage Score: 0.00100  Max Score: 0.10000\tReward this episode: [ 0.   -0.01]\n",
      "Episode 3200\tAverage Score: 0.00000  Max Score: 0.00000\tReward this episode: [-0.01  0.  ]\n",
      "Episode 3300\tAverage Score: 0.00000  Max Score: 0.00000\tReward this episode: [ 0.   -0.01]\n",
      "Episode 3400\tAverage Score: 0.00000  Max Score: 0.00000\tReward this episode: [-0.01  0.  ]\n",
      "Episode 3500\tAverage Score: 0.00000  Max Score: 0.00000\tReward this episode: [ 0.   -0.01]\n",
      "Episode 3600\tAverage Score: 0.00000  Max Score: 0.00000\tReward this episode: [ 0.   -0.01]\n",
      "Episode 3700\tAverage Score: 0.00000  Max Score: 0.00000\tReward this episode: [ 0.   -0.01]\n",
      "Episode 3800\tAverage Score: 0.00000  Max Score: 0.00000\tReward this episode: [-0.01  0.  ]\n",
      "Episode 3900\tAverage Score: 0.00000  Max Score: 0.00000\tReward this episode: [ 0.   -0.01]\n",
      "Episode 4000\tAverage Score: 0.00000  Max Score: 0.00000\tReward this episode: [-0.01  0.  ]\n",
      "Episode 4100\tAverage Score: 0.00000  Max Score: 0.00000\tReward this episode: [-0.01  0.  ]\n",
      "Episode 4200\tAverage Score: 0.00000  Max Score: 0.00000\tReward this episode: [ 0.   -0.01]\n",
      "Episode 4300\tAverage Score: 0.00000  Max Score: 0.00000\tReward this episode: [-0.01  0.  ]\n",
      "Episode 4400\tAverage Score: 0.00000  Max Score: 0.00000\tReward this episode: [-0.01  0.  ]\n",
      "Episode 4500\tAverage Score: 0.00000  Max Score: 0.00000\tReward this episode: [ 0.   -0.01]\n",
      "Episode 4600\tAverage Score: 0.00000  Max Score: 0.00000\tReward this episode: [ 0.   -0.01]\n",
      "Episode 4700\tAverage Score: 0.00000  Max Score: 0.00000\tReward this episode: [-0.01  0.  ]\n",
      "Episode 4800\tAverage Score: 0.00000  Max Score: 0.00000\tReward this episode: [-0.01  0.  ]\n",
      "Episode 4900\tAverage Score: 0.00000  Max Score: 0.00000\tReward this episode: [ 0.   -0.01]\n",
      "Episode 5000\tAverage Score: 0.00000  Max Score: 0.00000\tReward this episode: [ 0.   -0.01]\n",
      "Episode 5100\tAverage Score: 0.00000  Max Score: 0.00000\tReward this episode: [ 0.   -0.01]\n",
      "Episode 5200\tAverage Score: 0.00000  Max Score: 0.00000\tReward this episode: [-0.01  0.  ]\n",
      "Episode 5300\tAverage Score: 0.00000  Max Score: 0.00000\tReward this episode: [ 0.   -0.01]\n",
      "Episode 5400\tAverage Score: 0.00000  Max Score: 0.00000\tReward this episode: [ 0.   -0.01]\n",
      "Episode 5500\tAverage Score: 0.00000  Max Score: 0.00000\tReward this episode: [ 0.   -0.01]\n",
      "Episode 5600\tAverage Score: 0.00000  Max Score: 0.00000\tReward this episode: [ 0.   -0.01]\n",
      "Episode 5700\tAverage Score: 0.00000  Max Score: 0.00000\tReward this episode: [-0.01  0.  ]\n",
      "Episode 5800\tAverage Score: 0.00000  Max Score: 0.00000\tReward this episode: [ 0.   -0.01]\n",
      "Episode 5900\tAverage Score: 0.00000  Max Score: 0.00000\tReward this episode: [ 0.   -0.01]\n",
      "Episode 6000\tAverage Score: 0.00000  Max Score: 0.00000\tReward this episode: [ 0.   -0.01]\n",
      "Episode 6100\tAverage Score: 0.00000  Max Score: 0.00000\tReward this episode: [-0.01  0.  ]\n",
      "Episode 6200\tAverage Score: 0.00000  Max Score: 0.00000\tReward this episode: [ 0.   -0.01]\n",
      "Episode 6300\tAverage Score: 0.00000  Max Score: 0.00000\tReward this episode: [-0.01  0.  ]\n",
      "Episode 6400\tAverage Score: 0.00000  Max Score: 0.00000\tReward this episode: [ 0.   -0.01]\n",
      "Episode 6500\tAverage Score: 0.00000  Max Score: 0.00000\tReward this episode: [ 0.   -0.01]\n",
      "Episode 6600\tAverage Score: 0.00000  Max Score: 0.00000\tReward this episode: [-0.01  0.  ]\n",
      "Episode 6700\tAverage Score: 0.00000  Max Score: 0.00000\tReward this episode: [ 0.   -0.01]\n",
      "Episode 6800\tAverage Score: 0.00000  Max Score: 0.00000\tReward this episode: [-0.01  0.  ]\n",
      "Episode 6900\tAverage Score: 0.00000  Max Score: 0.00000\tReward this episode: [ 0.   -0.01]\n",
      "Episode 7000\tAverage Score: 0.00000  Max Score: 0.00000\tReward this episode: [-0.01  0.  ]\n",
      "Episode 7100\tAverage Score: 0.00760  Max Score: 0.10000\tReward this episode: [ 0.   -0.01]\n",
      "Episode 7200\tAverage Score: 0.01590  Max Score: 0.20000\tReward this episode: [-0.01  0.  ]\n",
      "Episode 7300\tAverage Score: 0.01900  Max Score: 0.10000\tReward this episode: [ 0.   -0.01]\n",
      "Episode 7400\tAverage Score: 0.01530  Max Score: 0.10000\tReward this episode: [-0.01  0.  ]\n",
      "Episode 7500\tAverage Score: 0.02740  Max Score: 0.10000\tReward this episode: [-0.01  0.  ]\n",
      "Episode 7600\tAverage Score: 0.03710  Max Score: 0.10000\tReward this episode: [-0.01  0.  ]\n",
      "Episode 7700\tAverage Score: 0.00380  Max Score: 0.10000\tReward this episode: [ 0.   -0.01]\n",
      "Episode 7800\tAverage Score: 0.00090  Max Score: 0.09000\tReward this episode: [ 0.   -0.01]\n",
      "Episode 7900\tAverage Score: 0.00000  Max Score: 0.00000\tReward this episode: [ 0.   -0.01]\n",
      "Episode 8000\tAverage Score: 0.00000  Max Score: 0.00000\tReward this episode: [-0.01  0.  ]\n",
      "Episode 8100\tAverage Score: 0.00000  Max Score: 0.00000\tReward this episode: [ 0.   -0.01]\n",
      "Episode 8200\tAverage Score: 0.00000  Max Score: 0.00000\tReward this episode: [ 0.   -0.01]\n",
      "Episode 8300\tAverage Score: 0.00000  Max Score: 0.00000\tReward this episode: [ 0.   -0.01]\n",
      "Episode 8400\tAverage Score: 0.00000  Max Score: 0.00000\tReward this episode: [ 0.   -0.01]\n",
      "Episode 8500\tAverage Score: 0.00000  Max Score: 0.00000\tReward this episode: [-0.01  0.  ]\n",
      "Episode 8600\tAverage Score: 0.00000  Max Score: 0.00000\tReward this episode: [ 0.   -0.01]\n",
      "Episode 8700\tAverage Score: 0.00000  Max Score: 0.00000\tReward this episode: [ 0.   -0.01]\n",
      "Episode 8800\tAverage Score: 0.00000  Max Score: 0.00000\tReward this episode: [ 0.   -0.01]\n",
      "Episode 8900\tAverage Score: 0.00100  Max Score: 0.10000\tReward this episode: [ 0.   -0.01]\n",
      "Episode 9000\tAverage Score: 0.00000  Max Score: 0.00000\tReward this episode: [ 0.   -0.01]\n"
     ]
    },
    {
     "name": "stdout",
     "output_type": "stream",
     "text": [
      "Episode 9100\tAverage Score: 0.00100  Max Score: 0.10000\tReward this episode: [-0.01  0.  ]\n",
      "Episode 9200\tAverage Score: 0.00000  Max Score: 0.00000\tReward this episode: [ 0.   -0.01]\n",
      "Episode 9300\tAverage Score: 0.00100  Max Score: 0.10000\tReward this episode: [ 0.   -0.01]\n",
      "Episode 9400\tAverage Score: 0.00000  Max Score: 0.00000\tReward this episode: [ 0.   -0.01]\n",
      "Episode 9500\tAverage Score: 0.00000  Max Score: 0.00000\tReward this episode: [ 0.   -0.01]\n",
      "Episode 9600\tAverage Score: 0.00000  Max Score: 0.00000\tReward this episode: [-0.01  0.  ]\n",
      "Episode 9700\tAverage Score: 0.00000  Max Score: 0.00000\tReward this episode: [ 0.   -0.01]\n",
      "Episode 9800\tAverage Score: 0.00000  Max Score: 0.00000\tReward this episode: [-0.01  0.  ]\n",
      "Episode 9900\tAverage Score: 0.01610  Max Score: 0.10000\tReward this episode: [-0.01  0.  ]\n",
      "Episode 10000\tAverage Score: 0.03200  Max Score: 0.10000\tReward this episode: [0.   0.09]]\n",
      "Episode 10100\tAverage Score: 0.02870  Max Score: 0.10000\tReward this episode: [-0.01  0.  ]\n",
      "Episode 10200\tAverage Score: 0.01250  Max Score: 0.19000\tReward this episode: [ 0.   -0.01].19000001]\n",
      "Episode 10300\tAverage Score: 0.05560  Max Score: 0.19000\tReward this episode: [0.1  0.09] ]\n",
      "Episode 10400\tAverage Score: 0.01530  Max Score: 0.10000\tReward this episode: [ 0.   -0.01]\n",
      "Episode 10500\tAverage Score: 0.04540  Max Score: 0.20000\tReward this episode: [0.   0.09] ]\n",
      "Episode 10600\tAverage Score: 0.07550  Max Score: 0.20000\tReward this episode: [ 0.1  -0.01]\n",
      "Episode 10700\tAverage Score: 0.04630  Max Score: 0.40000\tReward this episode: [ 0.   -0.01].40000001]\n",
      "Episode 10800\tAverage Score: 0.08660  Max Score: 0.40000\tReward this episode: [0.1  0.09] 0.39000001]\n",
      "Episode 10900\tAverage Score: 0.20110  Max Score: 1.00000\tReward this episode: [0.50000001 0.59000001]\n",
      "Episode 11000\tAverage Score: 0.38270  Max Score: 2.20000\tReward this episode: [-0.01  0.  ].50000001]\n",
      "Episode 11100\tAverage Score: 0.04080  Max Score: 0.50000\tReward this episode: [ 0.   -0.01].50000001]\n",
      "Episode 11200\tAverage Score: 0.03180  Max Score: 0.39000\tReward this episode: [-0.01  0.  ].39000001]\n",
      "Episode 11300\tAverage Score: 0.00300  Max Score: 0.20000\tReward this episode: [ 0.   -0.01]\n",
      "Episode 11400\tAverage Score: 0.00590  Max Score: 0.20000\tReward this episode: [-0.01  0.  ]\n",
      "Episode 11500\tAverage Score: 0.00000  Max Score: 0.00000\tReward this episode: [ 0.   -0.01]\n",
      "Episode 11600\tAverage Score: 0.00000  Max Score: 0.00000\tReward this episode: [-0.01  0.  ]\n",
      "Episode 11700\tAverage Score: 0.00000  Max Score: 0.00000\tReward this episode: [ 0.   -0.01]\n",
      "Episode 11800\tAverage Score: 0.00000  Max Score: 0.00000\tReward this episode: [-0.01  0.  ]\n",
      "Episode 11900\tAverage Score: 0.00000  Max Score: 0.00000\tReward this episode: [-0.01  0.  ]\n",
      "Episode 12000\tAverage Score: 0.02080  Max Score: 0.70000\tReward this episode: [0.2  0.09] ].69000001]\n",
      "Episode 12100\tAverage Score: 0.01790  Max Score: 0.40000\tReward this episode: [ 0.   -0.01].29      ]\n",
      "Episode 12200\tAverage Score: 0.12170  Max Score: 0.60000\tReward this episode: [0.19 0.2 ] 0.39000001]\n",
      "Episode 12300\tAverage Score: 0.21990  Max Score: 0.80000\tReward this episode: [0.   0.09] ].79000001]\n",
      "Episode 12400\tAverage Score: 0.15210  Max Score: 1.20000\tReward this episode: [ 0.   -0.01].40000001]\n",
      "Episode 12500\tAverage Score: 0.10520  Max Score: 0.70000\tReward this episode: [ 0.   -0.01].39000001]\n",
      "Episode 12600\tAverage Score: 0.13570  Max Score: 0.79000\tReward this episode: [0.09 0.1 ] 0.79000001]\n",
      "Episode 12700\tAverage Score: 0.17210  Max Score: 0.90000\tReward this episode: [0.1  0.09]1].60000001]\n",
      "Episode 12800\tAverage Score: 0.23780  Max Score: 1.20000\tReward this episode: [0.2  0.19] 0.39000001]\n",
      "Episode 12900\tAverage Score: 0.06790  Max Score: 0.90000\tReward this episode: [0.2  0.09]1].69000001]\n",
      "Episode 13000\tAverage Score: 0.03390  Max Score: 0.50000\tReward this episode: [0.40000001 0.39000001]\n",
      "Episode 13100\tAverage Score: 0.00600  Max Score: 0.20000\tReward this episode: [-0.01  0.  ]\n",
      "Episode 13200\tAverage Score: 0.00770  Max Score: 0.10000\tReward this episode: [ 0.   -0.01]\n",
      "Episode 13300\tAverage Score: 0.00770  Max Score: 0.19000\tReward this episode: [ 0.   -0.01]\n",
      "Episode 13400\tAverage Score: 0.00660  Max Score: 0.10000\tReward this episode: [ 0.   -0.01]\n",
      "Episode 13500\tAverage Score: 0.00900  Max Score: 0.10000\tReward this episode: [ 0.   -0.01]\n",
      "Episode 13600\tAverage Score: 0.01280  Max Score: 0.10000\tReward this episode: [-0.01  0.  ]\n",
      "Episode 13700\tAverage Score: 0.02570  Max Score: 0.10000\tReward this episode: [ 0.1  -0.01]\n",
      "Episode 13800\tAverage Score: 0.02510  Max Score: 0.19000\tReward this episode: [ 0.   -0.01]\n",
      "Episode 13900\tAverage Score: 0.03040  Max Score: 0.10000\tReward this episode: [ 0.   -0.01]\n",
      "Episode 14000\tAverage Score: 0.03940  Max Score: 0.20000\tReward this episode: [-0.01  0.  ]\n",
      "Episode 14100\tAverage Score: 0.04030  Max Score: 0.20000\tReward this episode: [ 0.1  -0.01]\n",
      "Episode 14200\tAverage Score: 0.06210  Max Score: 0.20000\tReward this episode: [ 0.1  -0.01]\n",
      "Episode 14300\tAverage Score: 0.07000  Max Score: 0.20000\tReward this episode: [-0.01  0.1 ]\n",
      "Episode 14400\tAverage Score: 0.08010  Max Score: 0.20000\tReward this episode: [0.   0.09] ]\n",
      "Episode 14500\tAverage Score: 0.08830  Max Score: 0.40000\tReward this episode: [-0.01  0.1 ].29      ]\n",
      "Episode 14600\tAverage Score: 0.07220  Max Score: 0.20000\tReward this episode: [-0.01  0.1 ].19000001]\n",
      "Episode 14700\tAverage Score: 0.04000  Max Score: 0.20000\tReward this episode: [ 0.   -0.01]\n",
      "Episode 14800\tAverage Score: 0.07670  Max Score: 0.30000\tReward this episode: [ 0.1  -0.01]\n",
      "Episode 14900\tAverage Score: 0.08690  Max Score: 0.20000\tReward this episode: [-0.01  0.  ]\n",
      "Episode 15000\tAverage Score: 0.10840  Max Score: 0.30000\tReward this episode: [ 0.1  -0.01].1       ]\n",
      "Episode 15100\tAverage Score: 0.10940  Max Score: 0.40000\tReward this episode: [0.1  0.09] ].40000001]\n",
      "Episode 15200\tAverage Score: 0.12540  Max Score: 0.60000\tReward this episode: [ 0.1  -0.01].49000001]\n",
      "Episode 15300\tAverage Score: 0.10030  Max Score: 0.40000\tReward this episode: [ 0.1  -0.01].29      ]\n",
      "Episode 15400\tAverage Score: 0.15340  Max Score: 0.40000\tReward this episode: [0.09 0.2 ] ].39000001]\n",
      "Episode 15500\tAverage Score: 0.21940  Max Score: 1.10000\tReward this episode: [0.1  0.09] 0.29      ]\n",
      "Episode 15600\tAverage Score: 0.35660  Max Score: 2.10000\tReward this episode: [ 0.1  -0.01].3       ]\n",
      "Episode 15700\tAverage Score: 0.31600  Max Score: 1.70000\tReward this episode: [0.1  0.09]1].39000001]\n",
      "Episode 15800\tAverage Score: 0.18880  Max Score: 1.20000\tReward this episode: [0.2  0.09] ].99000002]\n",
      "Episode 15900\tAverage Score: 0.23950  Max Score: 1.10000\tReward this episode: [0.2  0.29]1].59000001]\n",
      "Episode 16000\tAverage Score: 0.20850  Max Score: 1.29000\tReward this episode: [0.2  0.09] 0.79000001]\n",
      "Episode 16100\tAverage Score: 0.34120  Max Score: 1.80000\tReward this episode: [-0.01  0.  ].79000003]\n",
      "Episode 16200\tAverage Score: 0.29650  Max Score: 2.00000\tReward this episode: [1.79000003 1.90000003]\n",
      "Episode 16300\tAverage Score: 0.30920  Max Score: 2.60000\tReward this episode: [0.49000001 0.60000001]\n",
      "Episode 16400\tAverage Score: 0.19060  Max Score: 1.70000\tReward this episode: [0.2  0.09] ].00000001]\n",
      "Episode 16500\tAverage Score: 0.44440  Max Score: 2.50000\tReward this episode: [0.40000001 0.29      ]\n",
      "Solved in 16505 episode\tAverage Score 0.50450re: 2.50000\tReward this episode: [1.40000002 1.39000002]\n"
     ]
    },
    {
     "data": {
      "image/png": "[encoded data removed]",
      "text/plain": [
       "<Figure size 432x288 with 1 Axes>"
      ]
     },
     "metadata": {},
     "output_type": "display_data"
    },
    {
     "data": {
      "text/plain": [
       "<Figure size 432x288 with 0 Axes>"
      ]
     },
     "metadata": {},
     "output_type": "display_data"
    }
   ],
   "source": [
    "scores_all = maddpg_train(agent)\n",
    "\n",
    "fig = plt.figure()\n",
    "ax = fig.add_subplot(111)\n",
    "plt.plot(np.arange(1, len(scores_all)+1), scores_all)\n",
    "plt.ylabel('Score')\n",
    "plt.xlabel('Episode #')\n",
    "plt.show()\n",
    "plt.savefig(\"results.png\")"
   ]
  },
  {
   "cell_type": "code",
   "execution_count": null,
   "metadata": {},
   "outputs": [],
   "source": []
  }
 ],
 "metadata": {
  "kernelspec": {
   "display_name": "Python 3",
   "language": "python",
   "name": "python3"
  },
  "language_info": {
   "codemirror_mode": {
    "name": "ipython",
    "version": 3
   },
   "file_extension": ".py",
   "mimetype": "text/x-python",
   "name": "python",
   "nbconvert_exporter": "python",
   "pygments_lexer": "ipython3",
   "version": "3.6.5"
  }
 },
 "nbformat": 4,
 "nbformat_minor": 2
}
